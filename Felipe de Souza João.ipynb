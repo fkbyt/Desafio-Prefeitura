{
 "cells": [
  {
   "cell_type": "code",
   "execution_count": 1,
   "metadata": {},
   "outputs": [],
   "source": [
    "import pandas as panda"
   ]
  },
  {
   "cell_type": "code",
   "execution_count": 2,
   "metadata": {},
   "outputs": [],
   "source": [
    "# Dados sobre a divisão política e administrativa do município de São Paulo\n",
    "dist_df = panda.read_csv(\"dados/geosampa_distritos.csv\", sep=',')\n",
    "\n",
    "#  Quantidade de famílias em situação de extrema pobreza de São Paulo\n",
    "'''col: distrito, ano, qtd_familias,ds_nome'''\n",
    "\n",
    "fam_df = panda.read_csv(\"dados/observasampa_familias_extrema_pobreza.csv\", sep=',')"
   ]
  },
  {
   "cell_type": "markdown",
   "metadata": {},
   "source": [
    "1. Quantas famílias em situação de extrema pobreza existiam em São Paulo em 2023?"
   ]
  },
  {
   "cell_type": "code",
   "execution_count": 3,
   "metadata": {},
   "outputs": [],
   "source": [
    "ano2023 = fam_df[fam_df[\"ano\"] == 2023]"
   ]
  },
  {
   "cell_type": "code",
   "execution_count": 4,
   "metadata": {},
   "outputs": [],
   "source": [
    "qtfam = ano2023['qtd_familias'].sum()"
   ]
  },
  {
   "cell_type": "code",
   "execution_count": 108,
   "metadata": {},
   "outputs": [
    {
     "name": "stdout",
     "output_type": "stream",
     "text": [
      "A quantidade de famílias em extrema pobreza para o ano de 2023 foi 765114.0 famílias\n"
     ]
    }
   ],
   "source": [
    "print(f'A quantidade de famílias em extrema pobreza para o ano de 2023 foi {qtfam} famílias')"
   ]
  },
  {
   "cell_type": "markdown",
   "metadata": {},
   "source": [
    "2. Qual o percentual (em relação ao total da cidade) de famílias em situação de\n",
    "extrema pobreza por Distrito em 2023?"
   ]
  },
  {
   "cell_type": "code",
   "execution_count": 6,
   "metadata": {},
   "outputs": [],
   "source": [
    "ex2 = panda.DataFrame()\n",
    "ex2['distrito'] = ano2023['distrito']\n",
    "ex2['%qtd'] = (ano2023['qtd_familias'] / qtfam)*100\n",
    "ex2.loc[len(ex2.index)] = ['TOTAL', qtfam]"
   ]
  },
  {
   "cell_type": "code",
   "execution_count": 8,
   "metadata": {},
   "outputs": [
    {
     "data": {
      "text/html": [
       "<div>\n",
       "<style scoped>\n",
       "    .dataframe tbody tr th:only-of-type {\n",
       "        vertical-align: middle;\n",
       "    }\n",
       "\n",
       "    .dataframe tbody tr th {\n",
       "        vertical-align: top;\n",
       "    }\n",
       "\n",
       "    .dataframe thead th {\n",
       "        text-align: right;\n",
       "    }\n",
       "</style>\n",
       "<table border=\"1\" class=\"dataframe\">\n",
       "  <thead>\n",
       "    <tr style=\"text-align: right;\">\n",
       "      <th></th>\n",
       "      <th>distrito</th>\n",
       "      <th>%qtd</th>\n",
       "    </tr>\n",
       "  </thead>\n",
       "  <tbody>\n",
       "    <tr>\n",
       "      <th>960</th>\n",
       "      <td>Parque Do Carmo</td>\n",
       "      <td>0.778838</td>\n",
       "    </tr>\n",
       "    <tr>\n",
       "      <th>961</th>\n",
       "      <td>Pedreira</td>\n",
       "      <td>2.270381</td>\n",
       "    </tr>\n",
       "    <tr>\n",
       "      <th>962</th>\n",
       "      <td>Penha</td>\n",
       "      <td>0.875817</td>\n",
       "    </tr>\n",
       "    <tr>\n",
       "      <th>963</th>\n",
       "      <td>Perdizes</td>\n",
       "      <td>0.078028</td>\n",
       "    </tr>\n",
       "    <tr>\n",
       "      <th>964</th>\n",
       "      <td>Perus</td>\n",
       "      <td>1.354047</td>\n",
       "    </tr>\n",
       "    <tr>\n",
       "      <th>...</th>\n",
       "      <td>...</td>\n",
       "      <td>...</td>\n",
       "    </tr>\n",
       "    <tr>\n",
       "      <th>1052</th>\n",
       "      <td>Cidade Dutra</td>\n",
       "      <td>1.547351</td>\n",
       "    </tr>\n",
       "    <tr>\n",
       "      <th>1053</th>\n",
       "      <td>Cidade Líder</td>\n",
       "      <td>1.316274</td>\n",
       "    </tr>\n",
       "    <tr>\n",
       "      <th>1054</th>\n",
       "      <td>Cidade Tiradentes</td>\n",
       "      <td>2.968447</td>\n",
       "    </tr>\n",
       "    <tr>\n",
       "      <th>1055</th>\n",
       "      <td>Consolação</td>\n",
       "      <td>0.060252</td>\n",
       "    </tr>\n",
       "    <tr>\n",
       "      <th>96</th>\n",
       "      <td>TOTAL</td>\n",
       "      <td>765114.000000</td>\n",
       "    </tr>\n",
       "  </tbody>\n",
       "</table>\n",
       "<p>97 rows × 2 columns</p>\n",
       "</div>"
      ],
      "text/plain": [
       "               distrito           %qtd\n",
       "960     Parque Do Carmo       0.778838\n",
       "961            Pedreira       2.270381\n",
       "962               Penha       0.875817\n",
       "963            Perdizes       0.078028\n",
       "964               Perus       1.354047\n",
       "...                 ...            ...\n",
       "1052       Cidade Dutra       1.547351\n",
       "1053       Cidade Líder       1.316274\n",
       "1054  Cidade Tiradentes       2.968447\n",
       "1055         Consolação       0.060252\n",
       "96                TOTAL  765114.000000\n",
       "\n",
       "[97 rows x 2 columns]"
      ]
     },
     "execution_count": 8,
     "metadata": {},
     "output_type": "execute_result"
    }
   ],
   "source": [
    "ex2"
   ]
  },
  {
   "cell_type": "markdown",
   "metadata": {},
   "source": [
    "3. Qual distrito apresentou o maior aumento de famílias em situação de pobreza entre\n",
    "2022 e 2023?"
   ]
  },
  {
   "cell_type": "code",
   "execution_count": 9,
   "metadata": {},
   "outputs": [],
   "source": [
    "ex3 = panda.DataFrame()\n",
    "\n",
    "ex3_2022 = fam_df.loc[fam_df['ano'] == 2022, ['distrito', 'qtd_familias']]\n",
    "ex3_2022 = ex3_2022.rename(columns={'qtd_familias': 2022})\n",
    "\n",
    "ex3_2023 = fam_df.loc[fam_df['ano'] == 2023, ['distrito', 'qtd_familias']]\n",
    "ex3_2023 = ex3_2023.rename(columns={'qtd_familias': 2023})\n",
    "\n",
    "ex3 = ex3_2022.merge(ex3_2023, left_on = 'distrito', right_on='distrito')"
   ]
  },
  {
   "cell_type": "code",
   "execution_count": 70,
   "metadata": {},
   "outputs": [],
   "source": [
    "ex3['variação'] = (ex3[2023]/ex3[2022] - 1)*100"
   ]
  },
  {
   "cell_type": "code",
   "execution_count": null,
   "metadata": {},
   "outputs": [],
   "source": [
    "distrito = ex3.loc[ex3['variação'] == ex3['variação'].max(), ['distrito']]\n",
    "distrito = distrito.to_string(header=False, index=False)\n",
    "variacao = ex3.loc[ex3['variação'] == ex3['variação'].max(), ['variação']]\n",
    "variacao = float(variacao.iloc[0])"
   ]
  },
  {
   "cell_type": "code",
   "execution_count": 100,
   "metadata": {},
   "outputs": [
    {
     "name": "stdout",
     "output_type": "stream",
     "text": [
      "O distrito com o maior crescimento de famílias em situação de pobreza foi Tatuapé, com uma variação 156.17%\n"
     ]
    }
   ],
   "source": [
    "print(f'O distrito com o maior crescimento de famílias em situação de pobreza foi {distrito}, com uma variação {variacao:.2f}%')"
   ]
  },
  {
   "cell_type": "markdown",
   "metadata": {},
   "source": [
    "4. Quantas famílias em situação de extrema pobreza existiam em cada Subprefeitura\n",
    "de São Paulo em 2023?\n"
   ]
  },
  {
   "cell_type": "code",
   "execution_count": 12,
   "metadata": {},
   "outputs": [],
   "source": [
    "ex4 = panda.merge(ano2023, dist_df, on = \"ds_nome\")\n"
   ]
  },
  {
   "cell_type": "code",
   "execution_count": 13,
   "metadata": {},
   "outputs": [],
   "source": [
    "ex4 = ex4.groupby(['ds_subpref']).qtd_familias.sum()"
   ]
  },
  {
   "cell_type": "code",
   "execution_count": 14,
   "metadata": {},
   "outputs": [
    {
     "data": {
      "text/plain": [
       "ds_subpref\n",
       "ARICANDUVA-FORMOSA-CARRAO    11267.0\n",
       "BUTANTA                      18099.0\n",
       "CAMPO LIMPO                  38395.0\n",
       "CAPELA DO SOCORRO            47173.0\n",
       "CASA VERDE-CACHOEIRINHA      16810.0\n",
       "CIDADE ADEMAR                44446.0\n",
       "CIDADE TIRADENTES            22712.0\n",
       "ERMELINO MATARAZZO           15760.0\n",
       "FREGUESIA-BRASILANDIA        31033.0\n",
       "GUAIANASES                   27741.0\n",
       "IPIRANGA                     20947.0\n",
       "ITAIM PAULISTA               37587.0\n",
       "ITAQUERA                     39223.0\n",
       "JABAQUARA                    13725.0\n",
       "JACANA-TREMEMBE              20897.0\n",
       "LAPA                          6372.0\n",
       "M BOI MIRIM                  47031.0\n",
       "MOOCA                        24634.0\n",
       "PARELHEIROS                  17638.0\n",
       "PENHA                        27499.0\n",
       "PERUS                        17680.0\n",
       "PINHEIROS                     2357.0\n",
       "PIRITUBA-JARAGUA             30399.0\n",
       "SANTANA-TUCURUVI             10476.0\n",
       "SANTO AMARO                   7670.0\n",
       "SAO MATEUS                   41585.0\n",
       "SAO MIGUEL                   35508.0\n",
       "SAPOPEMBA                    24467.0\n",
       "SE                           29846.0\n",
       "VILA MARIA-VILA GUILHERME    21130.0\n",
       "VILA MARIANA                  3524.0\n",
       "VILA PRUDENTE                11483.0\n",
       "Name: qtd_familias, dtype: float64"
      ]
     },
     "execution_count": 14,
     "metadata": {},
     "output_type": "execute_result"
    }
   ],
   "source": [
    "ex4"
   ]
  },
  {
   "cell_type": "markdown",
   "metadata": {},
   "source": [
    "5. Como variou o número de famílias em situação de pobreza entre 2013 e 2023 nos\n",
    "Distritos de Grajaú, Jardim Ângela, Cidade Ademar? Exiba graficamente o resultado,\n",
    "escolhendo a visualização que achar mais adequada."
   ]
  },
  {
   "cell_type": "code",
   "execution_count": 15,
   "metadata": {},
   "outputs": [],
   "source": [
    "graph = panda.DataFrame()"
   ]
  },
  {
   "cell_type": "code",
   "execution_count": 16,
   "metadata": {},
   "outputs": [],
   "source": [
    "graph['GRAJAU'] = fam_df.loc[fam_df.ds_nome == 'GRAJAU', ['qtd_familias','ano']].set_index('ano')\n",
    "graph['JARDIM ANGELA'] = fam_df.loc[fam_df.ds_nome == 'JARDIM ANGELA', ['qtd_familias','ano']].set_index('ano')\n",
    "graph['CIDADE ADEMAR'] = fam_df.loc[fam_df.ds_nome == 'CIDADE ADEMAR', ['qtd_familias','ano']].set_index('ano')\n"
   ]
  },
  {
   "cell_type": "code",
   "execution_count": 62,
   "metadata": {},
   "outputs": [
    {
     "data": {
      "text/plain": [
       "<Axes: title={'center': 'Evolução da quantidade de famílias em situação de pobreza'}, xlabel='ano da coleta', ylabel='quantidade de famílias'>"
      ]
     },
     "execution_count": 62,
     "metadata": {},
     "output_type": "execute_result"
    },
    {
     "data": {
      "image/png": "[encoded data removed]",
      "text/plain": [
       "<Figure size 640x480 with 1 Axes>"
      ]
     },
     "metadata": {},
     "output_type": "display_data"
    }
   ],
   "source": [
    "\n",
    "graph.plot(kind='line', \n",
    "           title='Evolução da quantidade de famílias em situação de pobreza', \n",
    "           xlabel='ano da coleta', \n",
    "           ylabel='quantidade de famílias',\n",
    "           )"
   ]
  },
  {
   "cell_type": "markdown",
   "metadata": {},
   "source": [
    "6. Complete a seguinte frase: \"De acordo com os dados do ObservaSampa, em 2023\n",
    "metade dos Distritos de São Paulo, no máximo, ___ famílias em situação de extrema\n",
    "pobreza\". Qual informação você utilizou par acompletar a frase?"
   ]
  },
  {
   "cell_type": "code",
   "execution_count": 23,
   "metadata": {},
   "outputs": [],
   "source": [
    "ano2023 = ano2023.sort_values(by='qtd_familias', ascending=False)"
   ]
  },
  {
   "cell_type": "code",
   "execution_count": 32,
   "metadata": {},
   "outputs": [],
   "source": [
    "metade = ano2023.loc[ano2023['qtd_familias']> ano2023['qtd_familias'].quantile(0.5), ['qtd_familias']].sum()"
   ]
  },
  {
   "cell_type": "code",
   "execution_count": 42,
   "metadata": {},
   "outputs": [],
   "source": [
    "resposta = (metade/qtfam)*100\n",
    "resposta = float(resposta.iloc[0])"
   ]
  },
  {
   "cell_type": "code",
   "execution_count": 45,
   "metadata": {},
   "outputs": [
    {
     "name": "stdout",
     "output_type": "stream",
     "text": [
      "De acordo com os dados do ObservaSampa, em 2023 metade dos Distritos de São Paulo, no máximo, correspondem à 82.89% das famílias em situação de extrema pobreza\n"
     ]
    }
   ],
   "source": [
    "print(f'De acordo com os dados do ObservaSampa, em 2023 metade dos Distritos de São Paulo, no máximo, correspondem à {resposta:.2f}% das famílias em situação de extrema pobreza')"
   ]
  }
 ],
 "metadata": {
  "kernelspec": {
   "display_name": "base",
   "language": "python",
   "name": "python3"
  },
  "language_info": {
   "codemirror_mode": {
    "name": "ipython",
    "version": 3
   },
   "file_extension": ".py",
   "mimetype": "text/x-python",
   "name": "python",
   "nbconvert_exporter": "python",
   "pygments_lexer": "ipython3",
   "version": "3.11.7"
  }
 },
 "nbformat": 4,
 "nbformat_minor": 2
}
